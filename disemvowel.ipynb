{
 "cells": [
  {
   "cell_type": "markdown",
   "metadata": {},
   "source": [
    "# Disemvowel Trolls"
   ]
  },
  {
   "cell_type": "markdown",
   "metadata": {},
   "source": [
    "## Instructions\n",
    "Trolls are attacking your comment section!\n",
    "\n",
    "A common way to deal with this situation is to remove all of the vowels from the trolls' comments, neutralizing the threat.\n",
    "\n",
    "Your task is to write a function that takes a string and return a new string with all vowels removed.\n",
    "\n",
    "For example, the string \"This website is for losers LOL!\" would become \"Ths wbst s fr lsrs LL!\".\n",
    "\n",
    "Note: for this kata y isn't considered a vowel."
   ]
  },
  {
   "cell_type": "markdown",
   "metadata": {},
   "source": [
    "## Requirements \n",
    "Submit the template function.\n",
    "```\n",
    "   def disemvowel(string_):\n",
    "      return string_\n",
    "``` "
   ]
  },
  {
   "cell_type": "code",
   "execution_count": 5,
   "metadata": {},
   "outputs": [],
   "source": [
    "def disemvowel(string_):\n",
    "    vowels = ['A','a','E','e','I','i','O','o','U','u']\n",
    "    new_string=''\n",
    "    for letter in string_:\n",
    "        if letter not in vowels:\n",
    "            new_string += letter\n",
    "    return new_string"
   ]
  },
  {
   "cell_type": "code",
   "execution_count": 6,
   "metadata": {},
   "outputs": [
    {
     "name": "stdout",
     "output_type": "stream",
     "text": [
      "hl tnt, LL\n"
     ]
    }
   ],
   "source": [
    "print(disemvowel('hola tonto, LOL'))"
   ]
  },
  {
   "cell_type": "markdown",
   "metadata": {},
   "source": [
    "## Alternative best [solution](https://www.codewars.com/kata/52fba66badcd10859f00097e/solutions/python)"
   ]
  },
  {
   "cell_type": "code",
   "execution_count": 9,
   "metadata": {},
   "outputs": [],
   "source": [
    "def disemvowel(s):\n",
    "    return s.translate(str.maketrans('','', \"aeiouAEIOU\"))"
   ]
  },
  {
   "cell_type": "code",
   "execution_count": 10,
   "metadata": {},
   "outputs": [
    {
     "name": "stdout",
     "output_type": "stream",
     "text": [
      "hl tnt, LL\n"
     ]
    }
   ],
   "source": [
    "print(disemvowel('hola tonto, LOL'))"
   ]
  },
  {
   "cell_type": "markdown",
   "metadata": {},
   "source": [
    "## Python String maketrans()\n",
    "\n",
    "### [https://www.programiz.com/](https://www.programiz.com/python-programming/methods/string/maketrans)\n",
    "\n",
    "The string maketrans() method returns a mapping table for translation usable for translate() method.\n",
    "\n",
    "In simple terms, maketrans() method is a static method that creates a one to one mapping of a character to its translation/replacement.\n",
    "\n",
    "### string.maketrans(x[, y[, z]])\n",
    "\n",
    "* x - If only one argument is supplied, it must be a dictionary.\n",
    "The dictionary should contain a 1-to-1 mapping from a single character string to its translation OR a Unicode number (97 for 'a') to its translation.\n",
    "\n",
    "* y - If two arguments are passed, it must be two strings with equal length.\n",
    "Each character in the first string is a replacement to its corresponding index in the second string.\n",
    "\n",
    "* z - If three arguments are passed, each character in the third argument is mapped to None."
   ]
  },
  {
   "cell_type": "markdown",
   "metadata": {},
   "source": []
  }
 ],
 "metadata": {
  "interpreter": {
   "hash": "fa6ff00fcdefe388329a8bb74b8240847fc18f45760ced3a2551a0796fa5ffc3"
  },
  "kernelspec": {
   "display_name": "Python 3.8.10 ('code_warz': venv)",
   "language": "python",
   "name": "python3"
  },
  "language_info": {
   "codemirror_mode": {
    "name": "ipython",
    "version": 3
   },
   "file_extension": ".py",
   "mimetype": "text/x-python",
   "name": "python",
   "nbconvert_exporter": "python",
   "pygments_lexer": "ipython3",
   "version": "3.8.10"
  },
  "orig_nbformat": 4
 },
 "nbformat": 4,
 "nbformat_minor": 2
}
