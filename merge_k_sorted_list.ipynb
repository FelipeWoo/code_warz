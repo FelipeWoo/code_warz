{
 "cells": [
  {
   "cell_type": "markdown",
   "metadata": {},
   "source": [
    "# Merge k Sorted Lists"
   ]
  },
  {
   "cell_type": "markdown",
   "metadata": {},
   "source": [
    "## Instructions\n",
    "You are given an array of k linked-list **lists**, each linked-list is sorted in ascending order.\n",
    "\n",
    "Merge all the linked-list into one sorted linked-list and return it."
   ]
  },
  {
   "cell_type": "code",
   "execution_count": 75,
   "metadata": {},
   "outputs": [],
   "source": [
    "def min_(list_):\n",
    "    min_val=(0,list_[0])\n",
    "    for i in range(len(list_)):\n",
    "        if min_val[1] > list_[i]: min_val=(i,list_[i])\n",
    "    return min_val\n"
   ]
  },
  {
   "cell_type": "code",
   "execution_count": 76,
   "metadata": {},
   "outputs": [],
   "source": [
    "def sort_(list_,new_list=[]):\n",
    "    \n",
    "    if len(list_) > 0:\n",
    "        r = min_(list_)\n",
    "        new_list.append(r[1])\n",
    "        list_.pop(r[0])   \n",
    "        sort_(list_,new_list)\n",
    "\n",
    "    return new_list"
   ]
  },
  {
   "cell_type": "code",
   "execution_count": 77,
   "metadata": {},
   "outputs": [],
   "source": [
    "def sort_lists(lists,new_list=[]):\n",
    "\n",
    "    for l in lists:\n",
    "        for e in l:\n",
    "            new_list.append(e)\n",
    "    \n",
    "    \n",
    "    sorted_list = sort_(new_list)\n",
    "\n",
    "\n",
    "    return sorted_list"
   ]
  },
  {
   "cell_type": "code",
   "execution_count": 78,
   "metadata": {},
   "outputs": [
    {
     "name": "stdout",
     "output_type": "stream",
     "text": [
      "[-1, 0, 1, 1, 3, 3, 4, 5, 5, 5, 8, 10]\n"
     ]
    }
   ],
   "source": [
    "n = [1,5,3,0,-1,10]\n",
    "m = [[3,5,8],[1,4,5],n]\n",
    "\n",
    "#print(sort_(n))\n",
    "r= sort_lists(m)\n",
    "print(r)\n"
   ]
  }
 ],
 "metadata": {
  "interpreter": {
   "hash": "6e831fc3a977a3b39002590bc4050e602c69db6374a19931da2a72e691b60785"
  },
  "kernelspec": {
   "display_name": "Python 3.8.10 ('code_warz': venv)",
   "language": "python",
   "name": "python3"
  },
  "language_info": {
   "codemirror_mode": {
    "name": "ipython",
    "version": 3
   },
   "file_extension": ".py",
   "mimetype": "text/x-python",
   "name": "python",
   "nbconvert_exporter": "python",
   "pygments_lexer": "ipython3",
   "version": "3.8.10"
  },
  "orig_nbformat": 4
 },
 "nbformat": 4,
 "nbformat_minor": 2
}
