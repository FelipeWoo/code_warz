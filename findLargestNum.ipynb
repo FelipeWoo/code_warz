{
 "cells": [
  {
   "cell_type": "markdown",
   "metadata": {},
   "source": [
    "# Find the Largest Number"
   ]
  },
  {
   "cell_type": "markdown",
   "metadata": {},
   "source": []
  },
  {
   "cell_type": "code",
   "execution_count": 13,
   "metadata": {},
   "outputs": [],
   "source": [
    "def findLargestNumber(list_):\n",
    "    max = list_[0]\n",
    "    for i in list_:\n",
    "        if i > max: max = i\n",
    "    return max\n"
   ]
  },
  {
   "cell_type": "code",
   "execution_count": 14,
   "metadata": {},
   "outputs": [
    {
     "name": "stdout",
     "output_type": "stream",
     "text": [
      "1000\n"
     ]
    }
   ],
   "source": [
    "x = [3,20,1000,1,0,-1]\n",
    "\n",
    "print(findLargestNumber(x))"
   ]
  },
  {
   "cell_type": "code",
   "execution_count": null,
   "metadata": {},
   "outputs": [],
   "source": []
  }
 ],
 "metadata": {
  "interpreter": {
   "hash": "fa6ff00fcdefe388329a8bb74b8240847fc18f45760ced3a2551a0796fa5ffc3"
  },
  "kernelspec": {
   "display_name": "Python 3.8.10 ('code_warz': venv)",
   "language": "python",
   "name": "python3"
  },
  "language_info": {
   "name": "python",
   "version": "3.8.10"
  },
  "orig_nbformat": 4
 },
 "nbformat": 4,
 "nbformat_minor": 2
}
